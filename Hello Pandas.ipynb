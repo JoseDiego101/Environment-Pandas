{
 "cells": [
  {
   "cell_type": "code",
   "execution_count": 1,
   "metadata": {},
   "outputs": [],
   "source": [
    "import pandas as pd"
   ]
  },
  {
   "cell_type": "code",
   "execution_count": 2,
   "metadata": {},
   "outputs": [
    {
     "output_type": "stream",
     "name": "stdout",
     "text": [
      "1.2.4\n"
     ]
    }
   ],
   "source": [
    "print(pd.__version__)"
   ]
  },
  {
   "cell_type": "code",
   "execution_count": 3,
   "metadata": {},
   "outputs": [],
   "source": [
    "import random\n",
    "\n",
    "names = [\"Albert\",\"John\",\"Richard\",\"Henry\",\"William\"]\n",
    "surnames = [\"Goodman\",\"Black\",\"White\",\"Green\",\"Joneson\"]\n",
    "salaries = [500*random.randint(10,30) for _ in range(10)]\n",
    "\n",
    "def generate_random_person(names, surnames, salaries):\n",
    "    return {\"name\":random.sample(names,1)[0],\n",
    "            \"surname\":random.sample(surnames,1)[0],\n",
    "            \"salary\":random.sample(salaries,1)[0]}\n",
    "\n",
    "def generate_people(k):\n",
    "    return [generate_random_person(names, surnames, salaries) for _ in range(k)]"
   ]
  },
  {
   "cell_type": "code",
   "execution_count": 4,
   "metadata": {},
   "outputs": [
    {
     "output_type": "execute_result",
     "data": {
      "text/plain": [
       "      name  surname  salary\n",
       "0    Henry    Green    9000\n",
       "1    Henry  Goodman    9000\n",
       "2     John    White   14500\n",
       "3  Richard  Joneson    7500\n",
       "4     John    Green    8000"
      ],
      "text/html": "<div>\n<style scoped>\n    .dataframe tbody tr th:only-of-type {\n        vertical-align: middle;\n    }\n\n    .dataframe tbody tr th {\n        vertical-align: top;\n    }\n\n    .dataframe thead th {\n        text-align: right;\n    }\n</style>\n<table border=\"1\" class=\"dataframe\">\n  <thead>\n    <tr style=\"text-align: right;\">\n      <th></th>\n      <th>name</th>\n      <th>surname</th>\n      <th>salary</th>\n    </tr>\n  </thead>\n  <tbody>\n    <tr>\n      <th>0</th>\n      <td>Henry</td>\n      <td>Green</td>\n      <td>9000</td>\n    </tr>\n    <tr>\n      <th>1</th>\n      <td>Henry</td>\n      <td>Goodman</td>\n      <td>9000</td>\n    </tr>\n    <tr>\n      <th>2</th>\n      <td>John</td>\n      <td>White</td>\n      <td>14500</td>\n    </tr>\n    <tr>\n      <th>3</th>\n      <td>Richard</td>\n      <td>Joneson</td>\n      <td>7500</td>\n    </tr>\n    <tr>\n      <th>4</th>\n      <td>John</td>\n      <td>Green</td>\n      <td>8000</td>\n    </tr>\n  </tbody>\n</table>\n</div>"
     },
     "metadata": {},
     "execution_count": 4
    }
   ],
   "source": [
    "df = pd.DataFrame(generate_people(5),\n",
    "                  columns=[\"name\",\"surname\",\"salary\"])\n",
    "\n",
    "df"
   ]
  },
  {
   "cell_type": "code",
   "execution_count": null,
   "metadata": {},
   "outputs": [],
   "source": []
  }
 ],
 "metadata": {
  "kernelspec": {
   "name": "python392jvsc74a57bd0cc6df05e281e868f0d80b79375172a1c275a91f2edbb49f4745d4627ea04bf12",
   "display_name": "Python 3.9.2 64-bit ('environment-pandas': conda)"
  },
  "metadata": {
   "interpreter": {
    "hash": "cc6df05e281e868f0d80b79375172a1c275a91f2edbb49f4745d4627ea04bf12"
   }
  }
 },
 "nbformat": 4,
 "nbformat_minor": 5
}