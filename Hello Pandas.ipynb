{
 "cells": [
  {
   "source": [
    "# Hello Pandas"
   ],
   "cell_type": "markdown",
   "metadata": {}
  },
  {
   "cell_type": "code",
   "execution_count": 1,
   "metadata": {},
   "outputs": [
    {
     "output_type": "stream",
     "name": "stdout",
     "text": [
      "1.2.4\n"
     ]
    }
   ],
   "source": [
    "import pandas as pd\n",
    "\n",
    "print(pd.__version__)"
   ]
  },
  {
   "cell_type": "code",
   "execution_count": 2,
   "metadata": {},
   "outputs": [],
   "source": [
    "from faker import Faker\n",
    "import json\n",
    "\n",
    "faker = Faker()\n",
    "profiles = []\n",
    "for i in range(10):\n",
    "    profiles.append(faker.simple_profile()) \n",
    "\n",
    "df = pd.read_json(json.dumps(profiles, default=str))"
   ]
  },
  {
   "cell_type": "code",
   "execution_count": 3,
   "metadata": {},
   "outputs": [
    {
     "output_type": "execute_result",
     "data": {
      "text/plain": [
       "        username             name sex  \\\n",
       "0     mooretracy      Summer Dean   F   \n",
       "1      webbsarah   Miranda Taylor   F   \n",
       "2      kcaldwell     Lauren Ramos   F   \n",
       "3         dwhite    Amber Carroll   F   \n",
       "4        wmiller    Brooke Osborn   F   \n",
       "5  lucassamantha     Deanna Jones   F   \n",
       "6  pamelahensley   Brittany Potts   F   \n",
       "7     rrodriguez   Megan Robinson   F   \n",
       "8       sharon97       Nancy Tran   F   \n",
       "9     brittany81  Margaret Miller   F   \n",
       "\n",
       "                                             address  \\\n",
       "0       80566 Hanna Crossroad\\nNorth Maria, NV 68069   \n",
       "1   550 Valenzuela Freeway\\nCollinschester, MA 81763   \n",
       "2     57051 Acosta Circle\\nSouth Josephton, SC 70928   \n",
       "3    233 Phillips Road Suite 627\\nRoweland, KY 86397   \n",
       "4  3593 Bradshaw Stravenue Suite 847\\nGreenebury,...   \n",
       "5                          USNS Dawson\\nFPO AP 54120   \n",
       "6           825 Daniel Crest\\nRussellburgh, DC 55860   \n",
       "7      793 Wright Union Suite 943\\nPaulton, NC 89407   \n",
       "8                   PSC 5891, Box 6596\\nAPO AE 75003   \n",
       "9                       USNV Henderson\\nFPO AP 12436   \n",
       "\n",
       "                         mail   birthdate  \n",
       "0         jeffrey88@gmail.com  1986-04-13  \n",
       "1      garzamichael@gmail.com  1977-01-24  \n",
       "2      kevinsimpson@gmail.com  1930-02-17  \n",
       "3   mcleankristen@hotmail.com  1975-11-09  \n",
       "4    arthurduarte@hotmail.com  1999-01-10  \n",
       "5       calebnelson@yahoo.com  1959-03-04  \n",
       "6  lawsonbenjamin@hotmail.com  1981-08-16  \n",
       "7   watkinsbonnie@hotmail.com  1941-09-02  \n",
       "8     donnathomas@hotmail.com  1925-08-23  \n",
       "9         asawyer@hotmail.com  1965-10-03  "
      ],
      "text/html": "<div>\n<style scoped>\n    .dataframe tbody tr th:only-of-type {\n        vertical-align: middle;\n    }\n\n    .dataframe tbody tr th {\n        vertical-align: top;\n    }\n\n    .dataframe thead th {\n        text-align: right;\n    }\n</style>\n<table border=\"1\" class=\"dataframe\">\n  <thead>\n    <tr style=\"text-align: right;\">\n      <th></th>\n      <th>username</th>\n      <th>name</th>\n      <th>sex</th>\n      <th>address</th>\n      <th>mail</th>\n      <th>birthdate</th>\n    </tr>\n  </thead>\n  <tbody>\n    <tr>\n      <th>0</th>\n      <td>mooretracy</td>\n      <td>Summer Dean</td>\n      <td>F</td>\n      <td>80566 Hanna Crossroad\\nNorth Maria, NV 68069</td>\n      <td>jeffrey88@gmail.com</td>\n      <td>1986-04-13</td>\n    </tr>\n    <tr>\n      <th>1</th>\n      <td>webbsarah</td>\n      <td>Miranda Taylor</td>\n      <td>F</td>\n      <td>550 Valenzuela Freeway\\nCollinschester, MA 81763</td>\n      <td>garzamichael@gmail.com</td>\n      <td>1977-01-24</td>\n    </tr>\n    <tr>\n      <th>2</th>\n      <td>kcaldwell</td>\n      <td>Lauren Ramos</td>\n      <td>F</td>\n      <td>57051 Acosta Circle\\nSouth Josephton, SC 70928</td>\n      <td>kevinsimpson@gmail.com</td>\n      <td>1930-02-17</td>\n    </tr>\n    <tr>\n      <th>3</th>\n      <td>dwhite</td>\n      <td>Amber Carroll</td>\n      <td>F</td>\n      <td>233 Phillips Road Suite 627\\nRoweland, KY 86397</td>\n      <td>mcleankristen@hotmail.com</td>\n      <td>1975-11-09</td>\n    </tr>\n    <tr>\n      <th>4</th>\n      <td>wmiller</td>\n      <td>Brooke Osborn</td>\n      <td>F</td>\n      <td>3593 Bradshaw Stravenue Suite 847\\nGreenebury,...</td>\n      <td>arthurduarte@hotmail.com</td>\n      <td>1999-01-10</td>\n    </tr>\n    <tr>\n      <th>5</th>\n      <td>lucassamantha</td>\n      <td>Deanna Jones</td>\n      <td>F</td>\n      <td>USNS Dawson\\nFPO AP 54120</td>\n      <td>calebnelson@yahoo.com</td>\n      <td>1959-03-04</td>\n    </tr>\n    <tr>\n      <th>6</th>\n      <td>pamelahensley</td>\n      <td>Brittany Potts</td>\n      <td>F</td>\n      <td>825 Daniel Crest\\nRussellburgh, DC 55860</td>\n      <td>lawsonbenjamin@hotmail.com</td>\n      <td>1981-08-16</td>\n    </tr>\n    <tr>\n      <th>7</th>\n      <td>rrodriguez</td>\n      <td>Megan Robinson</td>\n      <td>F</td>\n      <td>793 Wright Union Suite 943\\nPaulton, NC 89407</td>\n      <td>watkinsbonnie@hotmail.com</td>\n      <td>1941-09-02</td>\n    </tr>\n    <tr>\n      <th>8</th>\n      <td>sharon97</td>\n      <td>Nancy Tran</td>\n      <td>F</td>\n      <td>PSC 5891, Box 6596\\nAPO AE 75003</td>\n      <td>donnathomas@hotmail.com</td>\n      <td>1925-08-23</td>\n    </tr>\n    <tr>\n      <th>9</th>\n      <td>brittany81</td>\n      <td>Margaret Miller</td>\n      <td>F</td>\n      <td>USNV Henderson\\nFPO AP 12436</td>\n      <td>asawyer@hotmail.com</td>\n      <td>1965-10-03</td>\n    </tr>\n  </tbody>\n</table>\n</div>"
     },
     "metadata": {},
     "execution_count": 3
    }
   ],
   "source": [
    "df"
   ]
  },
  {
   "cell_type": "code",
   "execution_count": null,
   "metadata": {},
   "outputs": [],
   "source": []
  }
 ],
 "metadata": {
  "kernelspec": {
   "name": "python388jvsc74a57bd0868cbf23f956d9c20cd3f048833c19c56e819e6c281e63833b8bc10b6b2cc494",
   "display_name": "Python 3.8.8 64-bit ('Environment-Pandas-WrW782_X')"
  },
  "metadata": {
   "interpreter": {
    "hash": "cc6df05e281e868f0d80b79375172a1c275a91f2edbb49f4745d4627ea04bf12"
   }
  }
 },
 "nbformat": 4,
 "nbformat_minor": 5
}